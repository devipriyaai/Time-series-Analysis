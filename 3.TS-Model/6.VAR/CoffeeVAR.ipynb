{
 "cells": [
  {
   "cell_type": "code",
   "execution_count": 1,
   "id": "48173d86",
   "metadata": {},
   "outputs": [],
   "source": [
    "import pandas as pd"
   ]
  },
  {
   "cell_type": "code",
   "execution_count": null,
   "id": "d120ac03",
   "metadata": {},
   "outputs": [],
   "source": []
  },
  {
   "cell_type": "code",
   "execution_count": 2,
   "id": "fc3f9a19",
   "metadata": {},
   "outputs": [],
   "source": [
    "from nsepy import get_history as gh\n",
    "import datetime as dt"
   ]
  },
  {
   "cell_type": "code",
   "execution_count": 3,
   "id": "ffa2740a",
   "metadata": {},
   "outputs": [],
   "source": [
    "start = dt.datetime(2013,6,1)\n",
    "end = dt.datetime(2022,2,11)\n",
    "stk_data = gh(symbol='TATACOFFEE',start=start,end=end)\n"
   ]
  },
  {
   "cell_type": "code",
   "execution_count": 4,
   "id": "f5e21aa3",
   "metadata": {},
   "outputs": [],
   "source": [
    "stk_data=stk_data[[\"Open\",\"High\",\"Low\",\"Close\"]]\n",
    "#stk_data.to_csv(\"Tatacoffee13_21.csv\")"
   ]
  },
  {
   "cell_type": "code",
   "execution_count": 7,
   "id": "c7225240",
   "metadata": {},
   "outputs": [],
   "source": [
    "#column=\"Close\""
   ]
  },
  {
   "cell_type": "code",
   "execution_count": 5,
   "id": "7ad5ebcf",
   "metadata": {},
   "outputs": [
    {
     "name": "stdout",
     "output_type": "stream",
     "text": [
      "Len: (177, 4)\n"
     ]
    }
   ],
   "source": [
    "from sklearn.preprocessing import MinMaxScaler\n",
    "Ms = MinMaxScaler()\n",
    "data1= Ms.fit_transform(stk_data)\n",
    "print(\"Len:\",data1.shape)"
   ]
  },
  {
   "cell_type": "code",
   "execution_count": 6,
   "id": "b2b41235",
   "metadata": {},
   "outputs": [],
   "source": [
    "data1=pd.DataFrame(data1,columns=[\"Open\",\"High\",\"Low\",\"Close\"])"
   ]
  },
  {
   "cell_type": "code",
   "execution_count": null,
   "id": "3da07017",
   "metadata": {},
   "outputs": [],
   "source": []
  },
  {
   "cell_type": "code",
   "execution_count": null,
   "id": "4e0c44bc",
   "metadata": {},
   "outputs": [],
   "source": []
  },
  {
   "cell_type": "code",
   "execution_count": null,
   "id": "c0996852",
   "metadata": {},
   "outputs": [],
   "source": []
  },
  {
   "cell_type": "code",
   "execution_count": null,
   "id": "f5e1222a",
   "metadata": {},
   "outputs": [],
   "source": []
  },
  {
   "cell_type": "code",
   "execution_count": 7,
   "id": "79c8b1d5",
   "metadata": {},
   "outputs": [
    {
     "name": "stdout",
     "output_type": "stream",
     "text": [
      "142\n",
      "X_train length: (142, 4)\n",
      "X_test length: (35, 4)\n",
      "y_train length: (142, 4)\n",
      "y_test length: (35, 4)\n"
     ]
    }
   ],
   "source": [
    "training_size = round(len(data1 ) * 0.80)\n",
    "print(training_size)\n",
    "X_train=data1[:training_size]\n",
    "X_test=data1[training_size:]\n",
    "print(\"X_train length:\",X_train.shape)\n",
    "print(\"X_test length:\",X_test.shape)\n",
    "y_train=data1[:training_size]\n",
    "y_test=data1[training_size:]\n",
    "print(\"y_train length:\",y_train.shape)\n",
    "print(\"y_test length:\",y_test.shape)"
   ]
  },
  {
   "cell_type": "code",
   "execution_count": 8,
   "id": "466d94f9",
   "metadata": {},
   "outputs": [],
   "source": [
    "import warnings\n",
    "warnings.filterwarnings(\"ignore\")"
   ]
  },
  {
   "cell_type": "code",
   "execution_count": 9,
   "id": "4df2eaa9",
   "metadata": {},
   "outputs": [],
   "source": [
    "performance={\"Model\":[],\"RMSE\":[],\"MaPe\":[],\"Lag\":[],\"Test\":[]}"
   ]
  },
  {
   "cell_type": "code",
   "execution_count": 10,
   "id": "3b6caee0",
   "metadata": {},
   "outputs": [],
   "source": [
    "def cominbation(dataset,listt):\n",
    "    print(listt)\n",
    "    datasetTwo=dataset[listt]\n",
    "    test_obs = 28\n",
    "    train =datasetTwo[:-test_obs]\n",
    "    test = datasetTwo[-test_obs:]\n",
    "    from statsmodels.tsa.api import VAR\n",
    "    for i in [1,2,3,4,5,6,7,8,9,10]:\n",
    "        model = VAR(train)\n",
    "        results = model.fit(i)\n",
    "        print('Order =', i)\n",
    "        print('AIC: ', results.aic)\n",
    "        print('BIC: ', results.bic)\n",
    "        print()\n",
    "    x = model.select_order(maxlags=12)\n",
    "    order=x.selected_orders[\"aic\"]\n",
    "    result = model.fit(order)\n",
    "    #result.summary()\n",
    "    lagged_Values = train.values[-order:]\n",
    "    pred = result.forecast(y=lagged_Values,steps=28) \n",
    "    preds=pd.DataFrame(pred,columns=listt)\n",
    "    preds.to_csv(\"varforecasted_{}.csv\".format(test_obs))\n",
    "    from sklearn.metrics import mean_squared_error\n",
    "    rmse= round(mean_squared_error(test,pred,squared=False))\n",
    "    from sklearn.metrics import mean_absolute_percentage_error\n",
    "    mape=mean_absolute_percentage_error(test,pred)\n",
    "    performance[\"Model\"].append(listt)\n",
    "    performance[\"RMSE\"].append(rmse)\n",
    "    performance[\"MaPe\"].append(mape)\n",
    "    performance[\"Lag\"].append(order)\n",
    "    performance[\"Test\"].append(test_obs)\n",
    "    perf=pd.DataFrame(performance)\n",
    "    return perf,result,pred"
   ]
  },
  {
   "cell_type": "code",
   "execution_count": 18,
   "id": "1ca74337",
   "metadata": {},
   "outputs": [],
   "source": [
    "listt=[\"Close\",\"High\",\"Open\",\"Low\"]\n",
    "#listt=[\"AQI_calculated\",\"PM10\",\"PM2.5\",\"NOx\",\"NO2\",\"NO\",\"NH3\",\"SO2\",\"CO\",'year']\n"
   ]
  },
  {
   "cell_type": "code",
   "execution_count": 19,
   "id": "3294031a",
   "metadata": {},
   "outputs": [
    {
     "name": "stdout",
     "output_type": "stream",
     "text": [
      "['Close', 'High', 'Open', 'Low']\n",
      "Order = 1\n",
      "AIC:  -26.35793582045063\n",
      "BIC:  -25.952907134806832\n",
      "\n",
      "Order = 2\n",
      "AIC:  -26.23103202876293\n",
      "BIC:  -25.49868119118446\n",
      "\n",
      "Order = 3\n",
      "AIC:  -26.068132183966977\n",
      "BIC:  -25.00547777075579\n",
      "\n",
      "Order = 4\n",
      "AIC:  -26.004242578592297\n",
      "BIC:  -24.608257099388165\n",
      "\n",
      "Order = 5\n",
      "AIC:  -25.925452519076494\n",
      "BIC:  -24.193061427657163\n",
      "\n",
      "Order = 6\n",
      "AIC:  -25.812982019038294\n",
      "BIC:  -23.741062697178222\n",
      "\n",
      "Order = 7\n",
      "AIC:  -25.685484014227164\n",
      "BIC:  -23.270864727735994\n",
      "\n",
      "Order = 8\n",
      "AIC:  -25.492416894076122\n",
      "BIC:  -22.73187572010507\n",
      "\n",
      "Order = 9\n",
      "AIC:  -25.344561102070948\n",
      "BIC:  -22.23482482674111\n",
      "\n",
      "Order = 10\n",
      "AIC:  -25.440206782579512\n",
      "BIC:  -21.977949767950495\n",
      "\n"
     ]
    }
   ],
   "source": [
    "perf,result,pred=cominbation(data1,listt)"
   ]
  },
  {
   "cell_type": "code",
   "execution_count": 20,
   "id": "43375522",
   "metadata": {},
   "outputs": [
    {
     "data": {
      "text/html": [
       "<div>\n",
       "<style scoped>\n",
       "    .dataframe tbody tr th:only-of-type {\n",
       "        vertical-align: middle;\n",
       "    }\n",
       "\n",
       "    .dataframe tbody tr th {\n",
       "        vertical-align: top;\n",
       "    }\n",
       "\n",
       "    .dataframe thead th {\n",
       "        text-align: right;\n",
       "    }\n",
       "</style>\n",
       "<table border=\"1\" class=\"dataframe\">\n",
       "  <thead>\n",
       "    <tr style=\"text-align: right;\">\n",
       "      <th></th>\n",
       "      <th>Open</th>\n",
       "      <th>High</th>\n",
       "      <th>Low</th>\n",
       "      <th>Close</th>\n",
       "    </tr>\n",
       "  </thead>\n",
       "  <tbody>\n",
       "    <tr>\n",
       "      <th>0</th>\n",
       "      <td>0.140240</td>\n",
       "      <td>0.072381</td>\n",
       "      <td>0.073518</td>\n",
       "      <td>0.021463</td>\n",
       "    </tr>\n",
       "    <tr>\n",
       "      <th>1</th>\n",
       "      <td>0.049331</td>\n",
       "      <td>0.000000</td>\n",
       "      <td>0.064032</td>\n",
       "      <td>0.017488</td>\n",
       "    </tr>\n",
       "    <tr>\n",
       "      <th>2</th>\n",
       "      <td>0.096547</td>\n",
       "      <td>0.038730</td>\n",
       "      <td>0.120158</td>\n",
       "      <td>0.060413</td>\n",
       "    </tr>\n",
       "    <tr>\n",
       "      <th>3</th>\n",
       "      <td>0.110641</td>\n",
       "      <td>0.028571</td>\n",
       "      <td>0.090909</td>\n",
       "      <td>0.023052</td>\n",
       "    </tr>\n",
       "    <tr>\n",
       "      <th>4</th>\n",
       "      <td>0.089500</td>\n",
       "      <td>0.012698</td>\n",
       "      <td>0.079051</td>\n",
       "      <td>0.023052</td>\n",
       "    </tr>\n",
       "    <tr>\n",
       "      <th>...</th>\n",
       "      <td>...</td>\n",
       "      <td>...</td>\n",
       "      <td>...</td>\n",
       "      <td>...</td>\n",
       "    </tr>\n",
       "    <tr>\n",
       "      <th>172</th>\n",
       "      <td>0.613108</td>\n",
       "      <td>0.503492</td>\n",
       "      <td>0.667194</td>\n",
       "      <td>0.616057</td>\n",
       "    </tr>\n",
       "    <tr>\n",
       "      <th>173</th>\n",
       "      <td>0.591261</td>\n",
       "      <td>0.480635</td>\n",
       "      <td>0.633992</td>\n",
       "      <td>0.601749</td>\n",
       "    </tr>\n",
       "    <tr>\n",
       "      <th>174</th>\n",
       "      <td>0.633545</td>\n",
       "      <td>0.510476</td>\n",
       "      <td>0.687747</td>\n",
       "      <td>0.626391</td>\n",
       "    </tr>\n",
       "    <tr>\n",
       "      <th>175</th>\n",
       "      <td>0.633545</td>\n",
       "      <td>0.537778</td>\n",
       "      <td>0.695652</td>\n",
       "      <td>0.662162</td>\n",
       "    </tr>\n",
       "    <tr>\n",
       "      <th>176</th>\n",
       "      <td>0.604651</td>\n",
       "      <td>0.481270</td>\n",
       "      <td>0.656126</td>\n",
       "      <td>0.604134</td>\n",
       "    </tr>\n",
       "  </tbody>\n",
       "</table>\n",
       "<p>177 rows × 4 columns</p>\n",
       "</div>"
      ],
      "text/plain": [
       "         Open      High       Low     Close\n",
       "0    0.140240  0.072381  0.073518  0.021463\n",
       "1    0.049331  0.000000  0.064032  0.017488\n",
       "2    0.096547  0.038730  0.120158  0.060413\n",
       "3    0.110641  0.028571  0.090909  0.023052\n",
       "4    0.089500  0.012698  0.079051  0.023052\n",
       "..        ...       ...       ...       ...\n",
       "172  0.613108  0.503492  0.667194  0.616057\n",
       "173  0.591261  0.480635  0.633992  0.601749\n",
       "174  0.633545  0.510476  0.687747  0.626391\n",
       "175  0.633545  0.537778  0.695652  0.662162\n",
       "176  0.604651  0.481270  0.656126  0.604134\n",
       "\n",
       "[177 rows x 4 columns]"
      ]
     },
     "execution_count": 20,
     "metadata": {},
     "output_type": "execute_result"
    }
   ],
   "source": [
    "data1"
   ]
  },
  {
   "cell_type": "code",
   "execution_count": 21,
   "id": "1ec452de",
   "metadata": {},
   "outputs": [
    {
     "data": {
      "text/html": [
       "<div>\n",
       "<style scoped>\n",
       "    .dataframe tbody tr th:only-of-type {\n",
       "        vertical-align: middle;\n",
       "    }\n",
       "\n",
       "    .dataframe tbody tr th {\n",
       "        vertical-align: top;\n",
       "    }\n",
       "\n",
       "    .dataframe thead th {\n",
       "        text-align: right;\n",
       "    }\n",
       "</style>\n",
       "<table border=\"1\" class=\"dataframe\">\n",
       "  <thead>\n",
       "    <tr style=\"text-align: right;\">\n",
       "      <th></th>\n",
       "      <th>Model</th>\n",
       "      <th>RMSE</th>\n",
       "      <th>MaPe</th>\n",
       "      <th>Lag</th>\n",
       "      <th>Test</th>\n",
       "    </tr>\n",
       "  </thead>\n",
       "  <tbody>\n",
       "    <tr>\n",
       "      <th>0</th>\n",
       "      <td>[Close, High]</td>\n",
       "      <td>0.0</td>\n",
       "      <td>0.114329</td>\n",
       "      <td>2</td>\n",
       "      <td>28</td>\n",
       "    </tr>\n",
       "    <tr>\n",
       "      <th>1</th>\n",
       "      <td>[Close, High, Open]</td>\n",
       "      <td>0.0</td>\n",
       "      <td>0.111524</td>\n",
       "      <td>1</td>\n",
       "      <td>28</td>\n",
       "    </tr>\n",
       "    <tr>\n",
       "      <th>2</th>\n",
       "      <td>[Close, High, Open, Low]</td>\n",
       "      <td>0.0</td>\n",
       "      <td>0.118421</td>\n",
       "      <td>1</td>\n",
       "      <td>28</td>\n",
       "    </tr>\n",
       "  </tbody>\n",
       "</table>\n",
       "</div>"
      ],
      "text/plain": [
       "                      Model  RMSE      MaPe  Lag  Test\n",
       "0             [Close, High]   0.0  0.114329    2    28\n",
       "1       [Close, High, Open]   0.0  0.111524    1    28\n",
       "2  [Close, High, Open, Low]   0.0  0.118421    1    28"
      ]
     },
     "execution_count": 21,
     "metadata": {},
     "output_type": "execute_result"
    }
   ],
   "source": [
    "perf"
   ]
  },
  {
   "cell_type": "code",
   "execution_count": null,
   "id": "8aae9795",
   "metadata": {},
   "outputs": [],
   "source": []
  },
  {
   "cell_type": "code",
   "execution_count": null,
   "id": "8d32ea48",
   "metadata": {},
   "outputs": [],
   "source": []
  },
  {
   "cell_type": "code",
   "execution_count": null,
   "id": "0dc8fc6e",
   "metadata": {},
   "outputs": [],
   "source": []
  },
  {
   "cell_type": "code",
   "execution_count": null,
   "id": "e2f78414",
   "metadata": {},
   "outputs": [],
   "source": []
  },
  {
   "cell_type": "code",
   "execution_count": null,
   "id": "f8a43a31",
   "metadata": {},
   "outputs": [],
   "source": []
  },
  {
   "cell_type": "code",
   "execution_count": null,
   "id": "1aad2dc2",
   "metadata": {},
   "outputs": [],
   "source": []
  },
  {
   "cell_type": "code",
   "execution_count": null,
   "id": "2a3a5690",
   "metadata": {},
   "outputs": [],
   "source": []
  },
  {
   "cell_type": "code",
   "execution_count": null,
   "id": "f7513753",
   "metadata": {},
   "outputs": [],
   "source": []
  },
  {
   "cell_type": "code",
   "execution_count": null,
   "id": "fb7b9b43",
   "metadata": {},
   "outputs": [],
   "source": []
  },
  {
   "cell_type": "code",
   "execution_count": null,
   "id": "39090e5f",
   "metadata": {},
   "outputs": [],
   "source": []
  },
  {
   "cell_type": "code",
   "execution_count": null,
   "id": "be71be7e",
   "metadata": {},
   "outputs": [],
   "source": []
  },
  {
   "cell_type": "code",
   "execution_count": null,
   "id": "ef65a4df",
   "metadata": {},
   "outputs": [],
   "source": []
  },
  {
   "cell_type": "code",
   "execution_count": null,
   "id": "d1288ab6",
   "metadata": {},
   "outputs": [],
   "source": []
  },
  {
   "cell_type": "code",
   "execution_count": null,
   "id": "9b304880",
   "metadata": {},
   "outputs": [],
   "source": []
  },
  {
   "cell_type": "code",
   "execution_count": null,
   "id": "67993afc",
   "metadata": {},
   "outputs": [],
   "source": []
  },
  {
   "cell_type": "code",
   "execution_count": null,
   "id": "e736efa9",
   "metadata": {},
   "outputs": [],
   "source": []
  },
  {
   "cell_type": "code",
   "execution_count": null,
   "id": "f5589944",
   "metadata": {},
   "outputs": [],
   "source": []
  },
  {
   "cell_type": "code",
   "execution_count": null,
   "id": "1e457408",
   "metadata": {},
   "outputs": [],
   "source": []
  },
  {
   "cell_type": "code",
   "execution_count": null,
   "id": "063be3ad",
   "metadata": {},
   "outputs": [],
   "source": []
  },
  {
   "cell_type": "code",
   "execution_count": null,
   "id": "9fd6f3bc",
   "metadata": {},
   "outputs": [],
   "source": []
  },
  {
   "cell_type": "code",
   "execution_count": null,
   "id": "75b7c5d1",
   "metadata": {},
   "outputs": [],
   "source": []
  },
  {
   "cell_type": "code",
   "execution_count": null,
   "id": "65c06560",
   "metadata": {},
   "outputs": [],
   "source": []
  },
  {
   "cell_type": "code",
   "execution_count": null,
   "id": "40ab1b02",
   "metadata": {},
   "outputs": [],
   "source": []
  },
  {
   "cell_type": "code",
   "execution_count": null,
   "id": "e289c5c7",
   "metadata": {},
   "outputs": [],
   "source": []
  },
  {
   "cell_type": "code",
   "execution_count": null,
   "id": "e4d470fe",
   "metadata": {},
   "outputs": [],
   "source": []
  },
  {
   "cell_type": "code",
   "execution_count": null,
   "id": "cf801120",
   "metadata": {},
   "outputs": [],
   "source": []
  },
  {
   "cell_type": "code",
   "execution_count": null,
   "id": "1a32370e",
   "metadata": {},
   "outputs": [],
   "source": []
  }
 ],
 "metadata": {
  "kernelspec": {
   "display_name": "Python 3 (ipykernel)",
   "language": "python",
   "name": "python3"
  },
  "language_info": {
   "codemirror_mode": {
    "name": "ipython",
    "version": 3
   },
   "file_extension": ".py",
   "mimetype": "text/x-python",
   "name": "python",
   "nbconvert_exporter": "python",
   "pygments_lexer": "ipython3",
   "version": "3.7.6"
  }
 },
 "nbformat": 4,
 "nbformat_minor": 5
}
