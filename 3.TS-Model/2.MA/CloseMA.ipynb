{
 "cells": [
  {
   "cell_type": "code",
   "execution_count": 1,
   "id": "58daf75a",
   "metadata": {},
   "outputs": [],
   "source": [
    "import pandas as pd"
   ]
  },
  {
   "cell_type": "code",
   "execution_count": null,
   "id": "4a80c858",
   "metadata": {},
   "outputs": [],
   "source": []
  },
  {
   "cell_type": "code",
   "execution_count": null,
   "id": "3c164e47",
   "metadata": {},
   "outputs": [],
   "source": []
  },
  {
   "cell_type": "code",
   "execution_count": 2,
   "id": "d46d5e10",
   "metadata": {},
   "outputs": [],
   "source": [
    "from nsepy import get_history as gh\n",
    "import datetime as dt"
   ]
  },
  {
   "cell_type": "code",
   "execution_count": 3,
   "id": "60332883",
   "metadata": {},
   "outputs": [],
   "source": [
    "start = dt.datetime(2021,6,1)\n",
    "end = dt.datetime(2022,1,28)\n",
    "stk_data = gh(symbol='TATACOFFEE',start=start,end=end)\n"
   ]
  },
  {
   "cell_type": "code",
   "execution_count": 4,
   "id": "ac86aabf",
   "metadata": {},
   "outputs": [],
   "source": [
    "stk_data=stk_data[[\"Open\",\"High\",\"Low\",\"Close\"]]\n",
    "#stk_data.to_csv(\"Tatacoffee13_21.csv\")"
   ]
  },
  {
   "cell_type": "code",
   "execution_count": 5,
   "id": "59d83a7a",
   "metadata": {},
   "outputs": [],
   "source": [
    "column=\"Close\""
   ]
  },
  {
   "cell_type": "code",
   "execution_count": 6,
   "id": "306b198f",
   "metadata": {},
   "outputs": [
    {
     "name": "stdout",
     "output_type": "stream",
     "text": [
      "Len: (167, 1)\n"
     ]
    }
   ],
   "source": [
    "from sklearn.preprocessing import MinMaxScaler\n",
    "Ms = MinMaxScaler()\n",
    "data1= Ms.fit_transform(stk_data[[column]])\n",
    "print(\"Len:\",data1.shape)"
   ]
  },
  {
   "cell_type": "code",
   "execution_count": 15,
   "id": "a9ed1a1e",
   "metadata": {},
   "outputs": [
    {
     "name": "stdout",
     "output_type": "stream",
     "text": [
      "159\n",
      "X_train length: (159, 1)\n",
      "X_test length: (8, 1)\n",
      "y_train length: (159, 1)\n",
      "y_test length: (8, 1)\n"
     ]
    }
   ],
   "source": [
    "training_size = round(len(data1 ) * 0.95)\n",
    "print(training_size)\n",
    "X_train=data1[:training_size]\n",
    "X_test=data1[training_size:]\n",
    "print(\"X_train length:\",X_train.shape)\n",
    "print(\"X_test length:\",X_test.shape)\n",
    "y_train=data1[:training_size]\n",
    "y_test=data1[training_size:]\n",
    "print(\"y_train length:\",y_train.shape)\n",
    "print(\"y_test length:\",y_test.shape)"
   ]
  },
  {
   "cell_type": "code",
   "execution_count": 16,
   "id": "670b5ae6",
   "metadata": {},
   "outputs": [],
   "source": [
    "import warnings\n",
    "warnings.filterwarnings(\"ignore\")"
   ]
  },
  {
   "cell_type": "code",
   "execution_count": 17,
   "id": "b062641c",
   "metadata": {},
   "outputs": [
    {
     "name": "stdout",
     "output_type": "stream",
     "text": [
      "Trend=n\n",
      "RMSE-Testset: 0.2739217116454082\n",
      "maPe-Testset: 0.35507908625209134\n",
      "************\n",
      "Trend=t\n",
      "RMSE-Testset: 0.21642539837546115\n",
      "maPe-Testset: 0.30502150885583035\n",
      "************\n",
      "Trend=c\n",
      "RMSE-Testset: 0.06375755889442523\n",
      "maPe-Testset: 0.0855155745274441\n",
      "************\n",
      "Trend=ct\n",
      "RMSE-Testset: 0.1545806159021163\n",
      "maPe-Testset: 0.21525618384461775\n",
      "************\n"
     ]
    }
   ],
   "source": [
    "from sklearn.metrics import mean_squared_error\n",
    "trends=['n','t','c','ct']\n",
    "orders=[(0,0,1),(0,0,2)]\n",
    "from statsmodels.tsa.arima.model import ARIMA\n",
    "for td in trends:\n",
    "        \n",
    "        #print(td)\n",
    "        #trendslist.append(td)\n",
    "    model = ARIMA(X_train, order=(0,0,10),trend=td,)\n",
    "    model_fit = model.fit()\n",
    "        # make prediction\n",
    "    y_pred= model_fit.predict(len(X_train), len(data1)-1)\n",
    "        #print(y_pred)\n",
    "    from sklearn.metrics import r2_score\n",
    "    mse=mean_squared_error(y_test,y_pred,squared=False)\n",
    "    from stockFunctions import rmsemape\n",
    "    print(\"Trend={}\".format(td))\n",
    "    rmsemape(y_test,y_pred)\n",
    "    print(\"************\")"
   ]
  },
  {
   "cell_type": "code",
   "execution_count": 18,
   "id": "30d6a1a0",
   "metadata": {},
   "outputs": [
    {
     "data": {
      "text/plain": [
       "8"
      ]
     },
     "execution_count": 18,
     "metadata": {},
     "output_type": "execute_result"
    }
   ],
   "source": [
    "len(y_pred)"
   ]
  },
  {
   "cell_type": "code",
   "execution_count": 64,
   "id": "ce4b50b5",
   "metadata": {},
   "outputs": [
    {
     "name": "stdout",
     "output_type": "stream",
     "text": [
      "Trend=c\n",
      "RMSE-Testset: 0.08175200074893178\n",
      "maPe-Testset: 0.09872796611151705\n",
      "************\n"
     ]
    }
   ],
   "source": [
    "#i=1\n",
    "td=\"c\"\n",
    "model = ARIMA(X_train, order=(0,0,30),trend=td)\n",
    "model_fit = model.fit()\n",
    "# make prediction\n",
    "y_pred= model_fit.predict(len(X_train), len(data1)-1)\n",
    "#print(y_pred)\n",
    "from sklearn.metrics import r2_score\n",
    "mse=mean_squared_error(y_test,y_pred,squared=False)\n",
    "from stockFunctions import rmsemape\n",
    "print(\"Trend={}\".format(td))\n",
    "rmsemape(y_test,y_pred)\n",
    "print(\"************\")"
   ]
  },
  {
   "cell_type": "code",
   "execution_count": null,
   "id": "622a9413",
   "metadata": {},
   "outputs": [],
   "source": [
    "from stockFunctions import graph\n",
    "graph(y_test,y_pred,\"Actual\",\"Predicted\",\"TataCoffee-Close-MA-Norm\",\"Days\",\"Prices\")"
   ]
  },
  {
   "cell_type": "code",
   "execution_count": null,
   "id": "6dccfa6d",
   "metadata": {},
   "outputs": [],
   "source": [
    "len(data1)"
   ]
  },
  {
   "cell_type": "code",
   "execution_count": null,
   "id": "b85256ab",
   "metadata": {},
   "outputs": [],
   "source": [
    "from stockFunctions import conversionSingle\n",
    "aTestNormTable=conversionSingle(y_test,[column])\n",
    "actual_stock_price_test_ori=Ms.inverse_transform(aTestNormTable)\n",
    "actual_stock_price_test_oriA=conversionSingle(actual_stock_price_test_ori,[column])"
   ]
  },
  {
   "cell_type": "code",
   "execution_count": null,
   "id": "5333826b",
   "metadata": {},
   "outputs": [],
   "source": [
    "from stockFunctions import conversionSingle\n",
    "pTestNormTable=conversionSingle(y_pred,[column])\n",
    "predicted_stock_price_test_ori=Ms.inverse_transform(pTestNormTable)\n",
    "predicted_stock_price_test_oriP=conversionSingle(predicted_stock_price_test_ori,[column])"
   ]
  },
  {
   "cell_type": "code",
   "execution_count": null,
   "id": "509fad7a",
   "metadata": {},
   "outputs": [],
   "source": [
    "from stockFunctions import graph\n",
    "graph(actual_stock_price_test_oriA,predicted_stock_price_test_oriP,\"Actual\",\"Predicted\",\"TataCoffee-Close-MA-Ori\",\"Days\",\"Prices\")"
   ]
  },
  {
   "cell_type": "code",
   "execution_count": null,
   "id": "20a5d165",
   "metadata": {},
   "outputs": [],
   "source": [
    "from stockFunctions import rmsemape\n",
    "rmsemape(actual_stock_price_test_oriA,predicted_stock_price_test_oriP)"
   ]
  },
  {
   "cell_type": "code",
   "execution_count": null,
   "id": "b7006def",
   "metadata": {},
   "outputs": [],
   "source": [
    "forecast=model_fit.predict(len(data1), len(data1))"
   ]
  },
  {
   "cell_type": "code",
   "execution_count": null,
   "id": "4a8fa5e7",
   "metadata": {},
   "outputs": [],
   "source": [
    "forecast"
   ]
  },
  {
   "cell_type": "code",
   "execution_count": null,
   "id": "9844aa14",
   "metadata": {},
   "outputs": [],
   "source": [
    "from stockFunctions import conversionSingle\n",
    "fTestNormTable=conversionSingle(forecast,[\"Closefore\"])\n",
    "forecast_stock_price_test_ori=Ms.inverse_transform(fTestNormTable)\n",
    "forecast_stock_price_test_oriF=conversionSingle(forecast_stock_price_test_ori,[\"Closefore\"])"
   ]
  },
  {
   "cell_type": "code",
   "execution_count": null,
   "id": "4c939f43",
   "metadata": {},
   "outputs": [],
   "source": [
    "forecast_stock_price_test_oriF"
   ]
  },
  {
   "cell_type": "code",
   "execution_count": null,
   "id": "49249813",
   "metadata": {},
   "outputs": [],
   "source": [
    "forecast_stock_price_test_oriF.to_csv(\"CloseMA.csv\",index=False)"
   ]
  },
  {
   "cell_type": "code",
   "execution_count": null,
   "id": "cd463811",
   "metadata": {},
   "outputs": [],
   "source": []
  },
  {
   "cell_type": "code",
   "execution_count": null,
   "id": "0d962b10",
   "metadata": {},
   "outputs": [],
   "source": []
  },
  {
   "cell_type": "code",
   "execution_count": null,
   "id": "2dc3a105",
   "metadata": {},
   "outputs": [],
   "source": []
  },
  {
   "cell_type": "code",
   "execution_count": null,
   "id": "54d2394f",
   "metadata": {},
   "outputs": [],
   "source": []
  },
  {
   "cell_type": "code",
   "execution_count": null,
   "id": "a950d99a",
   "metadata": {},
   "outputs": [],
   "source": []
  },
  {
   "cell_type": "code",
   "execution_count": null,
   "id": "94a245c1",
   "metadata": {},
   "outputs": [],
   "source": []
  },
  {
   "cell_type": "code",
   "execution_count": null,
   "id": "02ab3672",
   "metadata": {},
   "outputs": [],
   "source": []
  }
 ],
 "metadata": {
  "kernelspec": {
   "display_name": "Python 3 (ipykernel)",
   "language": "python",
   "name": "python3"
  },
  "language_info": {
   "codemirror_mode": {
    "name": "ipython",
    "version": 3
   },
   "file_extension": ".py",
   "mimetype": "text/x-python",
   "name": "python",
   "nbconvert_exporter": "python",
   "pygments_lexer": "ipython3",
   "version": "3.7.6"
  }
 },
 "nbformat": 4,
 "nbformat_minor": 5
}
