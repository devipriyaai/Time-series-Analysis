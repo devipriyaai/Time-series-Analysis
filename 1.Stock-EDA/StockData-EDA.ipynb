{
 "cells": [
  {
   "cell_type": "code",
   "execution_count": 13,
   "metadata": {},
   "outputs": [],
   "source": [
    "#!pip install yfinance"
   ]
  },
  {
   "cell_type": "code",
   "execution_count": 14,
   "metadata": {},
   "outputs": [],
   "source": [
    "import warnings\n",
    "warnings.filterwarnings('ignore')"
   ]
  },
  {
   "cell_type": "code",
   "execution_count": 17,
   "metadata": {},
   "outputs": [],
   "source": [
    "#import  sys\n",
    "#!{sys.executable} -m pip install yfinance --upgrade"
   ]
  },
  {
   "cell_type": "code",
   "execution_count": 18,
   "metadata": {},
   "outputs": [],
   "source": [
    "#!pip install nsepy"
   ]
  },
  {
   "cell_type": "code",
   "execution_count": 19,
   "metadata": {},
   "outputs": [],
   "source": [
    "from Descriptive import Descriptive"
   ]
  },
  {
   "cell_type": "code",
   "execution_count": 20,
   "metadata": {},
   "outputs": [],
   "source": [
    "obj=Descriptive()"
   ]
  },
  {
   "cell_type": "code",
   "execution_count": 21,
   "metadata": {},
   "outputs": [
    {
     "name": "stderr",
     "output_type": "stream",
     "text": [
      "[*********************100%***********************]  1 of 1 completed\n"
     ]
    }
   ],
   "source": [
    "from nsepy import get_history as gh\n",
    "import datetime as dt\n",
    "import yfinance as yf\n",
    "stock_symbol = \"RELIANCE.NS\" #NSE stocks usually end with .NS\n",
    "# Download stock data\n",
    "stk_data = yf.download(stock_symbol, start=\"2023-01-01\", end=\"2023-07-01\")"
   ]
  },
  {
   "cell_type": "code",
   "execution_count": 22,
   "metadata": {},
   "outputs": [],
   "source": [
    "import warnings\n",
    "warnings.filterwarnings('ignore')"
   ]
  },
  {
   "cell_type": "code",
   "execution_count": 23,
   "metadata": {},
   "outputs": [
    {
     "name": "stdout",
     "output_type": "stream",
     "text": [
      "<class 'pandas.core.frame.DataFrame'>\n",
      "DatetimeIndex: 122 entries, 2023-01-02 to 2023-06-30\n",
      "Data columns (total 5 columns):\n",
      " #   Column                 Non-Null Count  Dtype  \n",
      "---  ------                 --------------  -----  \n",
      " 0   (Close, RELIANCE.NS)   122 non-null    float64\n",
      " 1   (High, RELIANCE.NS)    122 non-null    float64\n",
      " 2   (Low, RELIANCE.NS)     122 non-null    float64\n",
      " 3   (Open, RELIANCE.NS)    122 non-null    float64\n",
      " 4   (Volume, RELIANCE.NS)  122 non-null    int64  \n",
      "dtypes: float64(4), int64(1)\n",
      "memory usage: 5.7 KB\n"
     ]
    }
   ],
   "source": [
    "stk_data.info()"
   ]
  },
  {
   "cell_type": "code",
   "execution_count": 24,
   "metadata": {},
   "outputs": [
    {
     "name": "stdout",
     "output_type": "stream",
     "text": [
      "Price             Close         High          Low         Open      Volume\n",
      "Ticker      RELIANCE.NS  RELIANCE.NS  RELIANCE.NS  RELIANCE.NS RELIANCE.NS\n",
      "Date                                                                      \n",
      "2023-01-02  1175.889648  1177.304802  1163.244669  1164.066352     5316175\n",
      "2023-01-03  1167.284668  1174.565828  1163.062148  1170.936659     7658932\n",
      "2023-01-04  1149.709595  1169.110728  1147.632506  1167.261851     9264891\n",
      "2023-01-05  1147.655151  1157.857903  1143.067373  1151.969076    13637099\n",
      "2023-01-06  1158.086304  1163.130627  1149.595501  1153.407240     6349597\n"
     ]
    }
   ],
   "source": [
    "print(stk_data.head())"
   ]
  },
  {
   "cell_type": "code",
   "execution_count": 25,
   "metadata": {},
   "outputs": [
    {
     "data": {
      "text/html": [
       "<div>\n",
       "<style scoped>\n",
       "    .dataframe tbody tr th:only-of-type {\n",
       "        vertical-align: middle;\n",
       "    }\n",
       "\n",
       "    .dataframe tbody tr th {\n",
       "        vertical-align: top;\n",
       "    }\n",
       "\n",
       "    .dataframe thead tr th {\n",
       "        text-align: left;\n",
       "    }\n",
       "\n",
       "    .dataframe thead tr:last-of-type th {\n",
       "        text-align: right;\n",
       "    }\n",
       "</style>\n",
       "<table border=\"1\" class=\"dataframe\">\n",
       "  <thead>\n",
       "    <tr>\n",
       "      <th>Price</th>\n",
       "      <th>Close</th>\n",
       "      <th>High</th>\n",
       "      <th>Low</th>\n",
       "      <th>Open</th>\n",
       "      <th>Volume</th>\n",
       "    </tr>\n",
       "    <tr>\n",
       "      <th>Ticker</th>\n",
       "      <th>RELIANCE.NS</th>\n",
       "      <th>RELIANCE.NS</th>\n",
       "      <th>RELIANCE.NS</th>\n",
       "      <th>RELIANCE.NS</th>\n",
       "      <th>RELIANCE.NS</th>\n",
       "    </tr>\n",
       "    <tr>\n",
       "      <th>Date</th>\n",
       "      <th></th>\n",
       "      <th></th>\n",
       "      <th></th>\n",
       "      <th></th>\n",
       "      <th></th>\n",
       "    </tr>\n",
       "  </thead>\n",
       "  <tbody>\n",
       "    <tr>\n",
       "      <th>2023-01-02</th>\n",
       "      <td>1175.889648</td>\n",
       "      <td>1177.304802</td>\n",
       "      <td>1163.244669</td>\n",
       "      <td>1164.066352</td>\n",
       "      <td>5316175</td>\n",
       "    </tr>\n",
       "    <tr>\n",
       "      <th>2023-01-03</th>\n",
       "      <td>1167.284668</td>\n",
       "      <td>1174.565828</td>\n",
       "      <td>1163.062148</td>\n",
       "      <td>1170.936659</td>\n",
       "      <td>7658932</td>\n",
       "    </tr>\n",
       "    <tr>\n",
       "      <th>2023-01-04</th>\n",
       "      <td>1149.709595</td>\n",
       "      <td>1169.110728</td>\n",
       "      <td>1147.632506</td>\n",
       "      <td>1167.261851</td>\n",
       "      <td>9264891</td>\n",
       "    </tr>\n",
       "    <tr>\n",
       "      <th>2023-01-05</th>\n",
       "      <td>1147.655151</td>\n",
       "      <td>1157.857903</td>\n",
       "      <td>1143.067373</td>\n",
       "      <td>1151.969076</td>\n",
       "      <td>13637099</td>\n",
       "    </tr>\n",
       "    <tr>\n",
       "      <th>2023-01-06</th>\n",
       "      <td>1158.086304</td>\n",
       "      <td>1163.130627</td>\n",
       "      <td>1149.595501</td>\n",
       "      <td>1153.407240</td>\n",
       "      <td>6349597</td>\n",
       "    </tr>\n",
       "    <tr>\n",
       "      <th>...</th>\n",
       "      <td>...</td>\n",
       "      <td>...</td>\n",
       "      <td>...</td>\n",
       "      <td>...</td>\n",
       "      <td>...</td>\n",
       "    </tr>\n",
       "    <tr>\n",
       "      <th>2023-06-23</th>\n",
       "      <td>1147.974976</td>\n",
       "      <td>1156.488600</td>\n",
       "      <td>1146.719570</td>\n",
       "      <td>1154.434333</td>\n",
       "      <td>6628570</td>\n",
       "    </tr>\n",
       "    <tr>\n",
       "      <th>2023-06-26</th>\n",
       "      <td>1139.210205</td>\n",
       "      <td>1148.271658</td>\n",
       "      <td>1136.083222</td>\n",
       "      <td>1144.437098</td>\n",
       "      <td>12641159</td>\n",
       "    </tr>\n",
       "    <tr>\n",
       "      <th>2023-06-27</th>\n",
       "      <td>1139.621094</td>\n",
       "      <td>1145.578264</td>\n",
       "      <td>1135.147420</td>\n",
       "      <td>1139.666736</td>\n",
       "      <td>9689466</td>\n",
       "    </tr>\n",
       "    <tr>\n",
       "      <th>2023-06-28</th>\n",
       "      <td>1154.708252</td>\n",
       "      <td>1158.519991</td>\n",
       "      <td>1140.260037</td>\n",
       "      <td>1147.176059</td>\n",
       "      <td>11354006</td>\n",
       "    </tr>\n",
       "    <tr>\n",
       "      <th>2023-06-30</th>\n",
       "      <td>1164.180420</td>\n",
       "      <td>1167.102012</td>\n",
       "      <td>1156.511300</td>\n",
       "      <td>1162.422949</td>\n",
       "      <td>11151555</td>\n",
       "    </tr>\n",
       "  </tbody>\n",
       "</table>\n",
       "<p>122 rows × 5 columns</p>\n",
       "</div>"
      ],
      "text/plain": [
       "Price             Close         High          Low         Open      Volume\n",
       "Ticker      RELIANCE.NS  RELIANCE.NS  RELIANCE.NS  RELIANCE.NS RELIANCE.NS\n",
       "Date                                                                      \n",
       "2023-01-02  1175.889648  1177.304802  1163.244669  1164.066352     5316175\n",
       "2023-01-03  1167.284668  1174.565828  1163.062148  1170.936659     7658932\n",
       "2023-01-04  1149.709595  1169.110728  1147.632506  1167.261851     9264891\n",
       "2023-01-05  1147.655151  1157.857903  1143.067373  1151.969076    13637099\n",
       "2023-01-06  1158.086304  1163.130627  1149.595501  1153.407240     6349597\n",
       "...                 ...          ...          ...          ...         ...\n",
       "2023-06-23  1147.974976  1156.488600  1146.719570  1154.434333     6628570\n",
       "2023-06-26  1139.210205  1148.271658  1136.083222  1144.437098    12641159\n",
       "2023-06-27  1139.621094  1145.578264  1135.147420  1139.666736     9689466\n",
       "2023-06-28  1154.708252  1158.519991  1140.260037  1147.176059    11354006\n",
       "2023-06-30  1164.180420  1167.102012  1156.511300  1162.422949    11151555\n",
       "\n",
       "[122 rows x 5 columns]"
      ]
     },
     "execution_count": 25,
     "metadata": {},
     "output_type": "execute_result"
    }
   ],
   "source": [
    "stk_data"
   ]
  },
  {
   "cell_type": "code",
   "execution_count": 26,
   "metadata": {},
   "outputs": [],
   "source": [
    "low=stk_data[\"Low\"]"
   ]
  },
  {
   "cell_type": "code",
   "execution_count": 27,
   "metadata": {},
   "outputs": [
    {
     "data": {
      "text/html": [
       "<div>\n",
       "<style scoped>\n",
       "    .dataframe tbody tr th:only-of-type {\n",
       "        vertical-align: middle;\n",
       "    }\n",
       "\n",
       "    .dataframe tbody tr th {\n",
       "        vertical-align: top;\n",
       "    }\n",
       "\n",
       "    .dataframe thead th {\n",
       "        text-align: right;\n",
       "    }\n",
       "</style>\n",
       "<table border=\"1\" class=\"dataframe\">\n",
       "  <thead>\n",
       "    <tr style=\"text-align: right;\">\n",
       "      <th>Ticker</th>\n",
       "      <th>RELIANCE.NS</th>\n",
       "    </tr>\n",
       "    <tr>\n",
       "      <th>Date</th>\n",
       "      <th></th>\n",
       "    </tr>\n",
       "  </thead>\n",
       "  <tbody>\n",
       "    <tr>\n",
       "      <th>2023-01-02</th>\n",
       "      <td>1163.244669</td>\n",
       "    </tr>\n",
       "    <tr>\n",
       "      <th>2023-01-03</th>\n",
       "      <td>1163.062148</td>\n",
       "    </tr>\n",
       "    <tr>\n",
       "      <th>2023-01-04</th>\n",
       "      <td>1147.632506</td>\n",
       "    </tr>\n",
       "    <tr>\n",
       "      <th>2023-01-05</th>\n",
       "      <td>1143.067373</td>\n",
       "    </tr>\n",
       "    <tr>\n",
       "      <th>2023-01-06</th>\n",
       "      <td>1149.595501</td>\n",
       "    </tr>\n",
       "    <tr>\n",
       "      <th>...</th>\n",
       "      <td>...</td>\n",
       "    </tr>\n",
       "    <tr>\n",
       "      <th>2023-06-23</th>\n",
       "      <td>1146.719570</td>\n",
       "    </tr>\n",
       "    <tr>\n",
       "      <th>2023-06-26</th>\n",
       "      <td>1136.083222</td>\n",
       "    </tr>\n",
       "    <tr>\n",
       "      <th>2023-06-27</th>\n",
       "      <td>1135.147420</td>\n",
       "    </tr>\n",
       "    <tr>\n",
       "      <th>2023-06-28</th>\n",
       "      <td>1140.260037</td>\n",
       "    </tr>\n",
       "    <tr>\n",
       "      <th>2023-06-30</th>\n",
       "      <td>1156.511300</td>\n",
       "    </tr>\n",
       "  </tbody>\n",
       "</table>\n",
       "<p>122 rows × 1 columns</p>\n",
       "</div>"
      ],
      "text/plain": [
       "Ticker      RELIANCE.NS\n",
       "Date                   \n",
       "2023-01-02  1163.244669\n",
       "2023-01-03  1163.062148\n",
       "2023-01-04  1147.632506\n",
       "2023-01-05  1143.067373\n",
       "2023-01-06  1149.595501\n",
       "...                 ...\n",
       "2023-06-23  1146.719570\n",
       "2023-06-26  1136.083222\n",
       "2023-06-27  1135.147420\n",
       "2023-06-28  1140.260037\n",
       "2023-06-30  1156.511300\n",
       "\n",
       "[122 rows x 1 columns]"
      ]
     },
     "execution_count": 27,
     "metadata": {},
     "output_type": "execute_result"
    }
   ],
   "source": [
    "low"
   ]
  },
  {
   "cell_type": "code",
   "execution_count": 28,
   "metadata": {},
   "outputs": [
    {
     "name": "stdout",
     "output_type": "stream",
     "text": [
      "The Quantitative Data: [('Close', 'RELIANCE.NS'), ('High', 'RELIANCE.NS'), ('Low', 'RELIANCE.NS'), ('Open', 'RELIANCE.NS'), ('Volume', 'RELIANCE.NS')]\n",
      "The Qualtitative Data []\n"
     ]
    }
   ],
   "source": [
    "dataset=stk_data\n",
    "quan,qual=obj.segreQuanQual(dataset)"
   ]
  },
  {
   "cell_type": "code",
   "execution_count": 29,
   "metadata": {},
   "outputs": [],
   "source": [
    "des_data=obj.descriptive_Analysis(dataset,quan)"
   ]
  },
  {
   "cell_type": "code",
   "execution_count": 30,
   "metadata": {},
   "outputs": [
    {
     "data": {
      "text/html": [
       "<div>\n",
       "<style scoped>\n",
       "    .dataframe tbody tr th:only-of-type {\n",
       "        vertical-align: middle;\n",
       "    }\n",
       "\n",
       "    .dataframe tbody tr th {\n",
       "        vertical-align: top;\n",
       "    }\n",
       "\n",
       "    .dataframe thead th {\n",
       "        text-align: right;\n",
       "    }\n",
       "</style>\n",
       "<table border=\"1\" class=\"dataframe\">\n",
       "  <thead>\n",
       "    <tr style=\"text-align: right;\">\n",
       "      <th></th>\n",
       "      <th>(Close, RELIANCE.NS)</th>\n",
       "      <th>(High, RELIANCE.NS)</th>\n",
       "      <th>(Low, RELIANCE.NS)</th>\n",
       "      <th>(Open, RELIANCE.NS)</th>\n",
       "      <th>(Volume, RELIANCE.NS)</th>\n",
       "    </tr>\n",
       "  </thead>\n",
       "  <tbody>\n",
       "    <tr>\n",
       "      <th>Null_count</th>\n",
       "      <td>0</td>\n",
       "      <td>0</td>\n",
       "      <td>0</td>\n",
       "      <td>0</td>\n",
       "      <td>0</td>\n",
       "    </tr>\n",
       "    <tr>\n",
       "      <th>NonNull_count</th>\n",
       "      <td>122</td>\n",
       "      <td>122</td>\n",
       "      <td>122</td>\n",
       "      <td>122</td>\n",
       "      <td>122</td>\n",
       "    </tr>\n",
       "    <tr>\n",
       "      <th>Total_Count</th>\n",
       "      <td>122</td>\n",
       "      <td>122</td>\n",
       "      <td>122</td>\n",
       "      <td>122</td>\n",
       "      <td>122</td>\n",
       "    </tr>\n",
       "    <tr>\n",
       "      <th>Mean</th>\n",
       "      <td>1101.509321</td>\n",
       "      <td>1110.478172</td>\n",
       "      <td>1093.310529</td>\n",
       "      <td>1103.458418</td>\n",
       "      <td>13045123.737705</td>\n",
       "    </tr>\n",
       "    <tr>\n",
       "      <th>Median</th>\n",
       "      <td>1109.366638</td>\n",
       "      <td>1116.533714</td>\n",
       "      <td>1100.830179</td>\n",
       "      <td>1109.252597</td>\n",
       "      <td>11680332.5</td>\n",
       "    </tr>\n",
       "    <tr>\n",
       "      <th>Mode</th>\n",
       "      <td>1004.863159</td>\n",
       "      <td>1013.422486</td>\n",
       "      <td>995.162593</td>\n",
       "      <td>1011.140007</td>\n",
       "      <td>5316175</td>\n",
       "    </tr>\n",
       "    <tr>\n",
       "      <th>Std</th>\n",
       "      <td>42.982484</td>\n",
       "      <td>41.824258</td>\n",
       "      <td>43.472053</td>\n",
       "      <td>42.380649</td>\n",
       "      <td>5569096.501439</td>\n",
       "    </tr>\n",
       "    <tr>\n",
       "      <th>Min</th>\n",
       "      <td>1004.863159</td>\n",
       "      <td>1013.422486</td>\n",
       "      <td>995.162593</td>\n",
       "      <td>1011.140007</td>\n",
       "      <td>5316175.0</td>\n",
       "    </tr>\n",
       "    <tr>\n",
       "      <th>Q1:25%</th>\n",
       "      <td>1069.143524</td>\n",
       "      <td>1077.411946</td>\n",
       "      <td>1059.990831</td>\n",
       "      <td>1072.327593</td>\n",
       "      <td>9243317.25</td>\n",
       "    </tr>\n",
       "    <tr>\n",
       "      <th>Q2:50%</th>\n",
       "      <td>1109.366638</td>\n",
       "      <td>1116.533714</td>\n",
       "      <td>1100.830179</td>\n",
       "      <td>1109.252597</td>\n",
       "      <td>11680332.5</td>\n",
       "    </tr>\n",
       "    <tr>\n",
       "      <th>Q3:75%</th>\n",
       "      <td>1132.813416</td>\n",
       "      <td>1141.224497</td>\n",
       "      <td>1125.064324</td>\n",
       "      <td>1136.299959</td>\n",
       "      <td>15457766.25</td>\n",
       "    </tr>\n",
       "    <tr>\n",
       "      <th>Q4:100%</th>\n",
       "      <td>1185.430298</td>\n",
       "      <td>1189.630256</td>\n",
       "      <td>1168.722774</td>\n",
       "      <td>1189.630256</td>\n",
       "      <td>34014213.0</td>\n",
       "    </tr>\n",
       "    <tr>\n",
       "      <th>IQR</th>\n",
       "      <td>63.669891</td>\n",
       "      <td>63.812551</td>\n",
       "      <td>65.073493</td>\n",
       "      <td>63.972366</td>\n",
       "      <td>6214449.0</td>\n",
       "    </tr>\n",
       "    <tr>\n",
       "      <th>1.5Rule</th>\n",
       "      <td>95.504837</td>\n",
       "      <td>95.718827</td>\n",
       "      <td>97.61024</td>\n",
       "      <td>95.958549</td>\n",
       "      <td>9321673.5</td>\n",
       "    </tr>\n",
       "    <tr>\n",
       "      <th>Lesser</th>\n",
       "      <td>973.638687</td>\n",
       "      <td>981.693119</td>\n",
       "      <td>962.380591</td>\n",
       "      <td>976.369043</td>\n",
       "      <td>-78356.25</td>\n",
       "    </tr>\n",
       "    <tr>\n",
       "      <th>Greater</th>\n",
       "      <td>1228.318253</td>\n",
       "      <td>1236.943324</td>\n",
       "      <td>1222.674564</td>\n",
       "      <td>1232.258508</td>\n",
       "      <td>24779439.75</td>\n",
       "    </tr>\n",
       "  </tbody>\n",
       "</table>\n",
       "</div>"
      ],
      "text/plain": [
       "              (Close, RELIANCE.NS) (High, RELIANCE.NS) (Low, RELIANCE.NS)  \\\n",
       "Null_count                       0                   0                  0   \n",
       "NonNull_count                  122                 122                122   \n",
       "Total_Count                    122                 122                122   \n",
       "Mean                   1101.509321         1110.478172        1093.310529   \n",
       "Median                 1109.366638         1116.533714        1100.830179   \n",
       "Mode                   1004.863159         1013.422486         995.162593   \n",
       "Std                      42.982484           41.824258          43.472053   \n",
       "Min                    1004.863159         1013.422486         995.162593   \n",
       "Q1:25%                 1069.143524         1077.411946        1059.990831   \n",
       "Q2:50%                 1109.366638         1116.533714        1100.830179   \n",
       "Q3:75%                 1132.813416         1141.224497        1125.064324   \n",
       "Q4:100%                1185.430298         1189.630256        1168.722774   \n",
       "IQR                      63.669891           63.812551          65.073493   \n",
       "1.5Rule                  95.504837           95.718827           97.61024   \n",
       "Lesser                  973.638687          981.693119         962.380591   \n",
       "Greater                1228.318253         1236.943324        1222.674564   \n",
       "\n",
       "              (Open, RELIANCE.NS) (Volume, RELIANCE.NS)  \n",
       "Null_count                      0                     0  \n",
       "NonNull_count                 122                   122  \n",
       "Total_Count                   122                   122  \n",
       "Mean                  1103.458418       13045123.737705  \n",
       "Median                1109.252597            11680332.5  \n",
       "Mode                  1011.140007               5316175  \n",
       "Std                     42.380649        5569096.501439  \n",
       "Min                   1011.140007             5316175.0  \n",
       "Q1:25%                1072.327593            9243317.25  \n",
       "Q2:50%                1109.252597            11680332.5  \n",
       "Q3:75%                1136.299959           15457766.25  \n",
       "Q4:100%               1189.630256            34014213.0  \n",
       "IQR                     63.972366             6214449.0  \n",
       "1.5Rule                 95.958549             9321673.5  \n",
       "Lesser                 976.369043             -78356.25  \n",
       "Greater               1232.258508           24779439.75  "
      ]
     },
     "execution_count": 30,
     "metadata": {},
     "output_type": "execute_result"
    }
   ],
   "source": [
    "des_data"
   ]
  },
  {
   "cell_type": "code",
   "execution_count": 31,
   "metadata": {},
   "outputs": [
    {
     "name": "stdout",
     "output_type": "stream",
     "text": [
      "Index([ ('Close', 'RELIANCE.NS'),   ('High', 'RELIANCE.NS'),\n",
      "          ('Low', 'RELIANCE.NS'),   ('Open', 'RELIANCE.NS'),\n",
      "       ('Volume', 'RELIANCE.NS')],\n",
      "      dtype='object')\n"
     ]
    }
   ],
   "source": [
    "print(des_data.columns)"
   ]
  },
  {
   "cell_type": "code",
   "execution_count": 32,
   "metadata": {},
   "outputs": [
    {
     "data": {
      "text/plain": [
       "Null_count                 0\n",
       "NonNull_count            122\n",
       "Total_Count              122\n",
       "Mean             1093.310529\n",
       "Median           1100.830179\n",
       "Mode              995.162593\n",
       "Std                43.472053\n",
       "Min               995.162593\n",
       "Q1:25%           1059.990831\n",
       "Q2:50%           1100.830179\n",
       "Q3:75%           1125.064324\n",
       "Q4:100%          1168.722774\n",
       "IQR                65.073493\n",
       "1.5Rule             97.61024\n",
       "Lesser            962.380591\n",
       "Greater          1222.674564\n",
       "Name: (Low, RELIANCE.NS), dtype: object"
      ]
     },
     "execution_count": 32,
     "metadata": {},
     "output_type": "execute_result"
    }
   ],
   "source": [
    "des_data[('Low', 'RELIANCE.NS')]"
   ]
  },
  {
   "cell_type": "code",
   "execution_count": 33,
   "metadata": {},
   "outputs": [
    {
     "data": {
      "text/plain": [
       "Null_count                 0\n",
       "NonNull_count            122\n",
       "Total_Count              122\n",
       "Mean             1110.478172\n",
       "Median           1116.533714\n",
       "Mode             1013.422486\n",
       "Std                41.824258\n",
       "Min              1013.422486\n",
       "Q1:25%           1077.411946\n",
       "Q2:50%           1116.533714\n",
       "Q3:75%           1141.224497\n",
       "Q4:100%          1189.630256\n",
       "IQR                63.812551\n",
       "1.5Rule            95.718827\n",
       "Lesser            981.693119\n",
       "Greater          1236.943324\n",
       "Name: (High, RELIANCE.NS), dtype: object"
      ]
     },
     "execution_count": 33,
     "metadata": {},
     "output_type": "execute_result"
    }
   ],
   "source": [
    "des_data[\"High\", 'RELIANCE.NS']"
   ]
  },
  {
   "cell_type": "code",
   "execution_count": 34,
   "metadata": {},
   "outputs": [],
   "source": [
    "import numpy as np"
   ]
  },
  {
   "cell_type": "code",
   "execution_count": 35,
   "metadata": {},
   "outputs": [
    {
     "data": {
      "text/plain": [
       "np.float64(1163.2255132188789)"
      ]
     },
     "execution_count": 35,
     "metadata": {},
     "output_type": "execute_result"
    }
   ],
   "source": [
    "np.percentile(dataset[\"Low\"],99)"
   ]
  },
  {
   "cell_type": "code",
   "execution_count": 36,
   "metadata": {},
   "outputs": [
    {
     "data": {
      "text/plain": [
       "np.float64(1145.706140135448)"
      ]
     },
     "execution_count": 36,
     "metadata": {},
     "output_type": "execute_result"
    }
   ],
   "source": [
    "np.percentile(dataset[\"High\"],80)"
   ]
  },
  {
   "cell_type": "code",
   "execution_count": 37,
   "metadata": {},
   "outputs": [],
   "source": [
    "def get_pdf_probability(dataset,startrange,endrange):\n",
    "    from matplotlib import pyplot\n",
    "    from scipy.stats import norm\n",
    "    import seaborn as sns\n",
    "    ax = sns.distplot(dataset,kde=True,kde_kws={'color':'blue'},color='Green')\n",
    "    pyplot.axvline(startrange,color='Red')\n",
    "    pyplot.axvline(endrange,color='Red')\n",
    "    # generate a sample\n",
    "    sample = dataset\n",
    "    # calculate parameters\n",
    "    sample_mean =sample.mean()\n",
    "    sample_std = sample.std()\n",
    "    print('Mean=%.3f, Standard Deviation=%.3f' % (sample_mean, sample_std))\n",
    "    # define the distribution\n",
    "    dist = norm(sample_mean, sample_std)\n",
    "    \n",
    "    # sample probabilities for a range of outcomes\n",
    "    values = [value for value in range(startrange, endrange)]\n",
    "    probabilities = [dist.pdf(value) for value in values]    \n",
    "    prob=sum(probabilities)\n",
    "    print(\"The area between range({},{}):{}\".format(startrange,endrange,sum(probabilities)))\n",
    "    return prob\n",
    "    "
   ]
  },
  {
   "cell_type": "code",
   "execution_count": 39,
   "metadata": {},
   "outputs": [
    {
     "name": "stdout",
     "output_type": "stream",
     "text": [
      "Mean=1093.311, Standard Deviation=43.472\n",
      "The area between range(250,350):[6.20061774e-66]\n"
     ]
    },
    {
     "data": {
      "text/plain": [
       "array([6.20061774e-66])"
      ]
     },
     "execution_count": 39,
     "metadata": {},
     "output_type": "execute_result"
    },
    {
     "data": {
      "image/png": "[encoded data removed]",
      "text/plain": [
       "<Figure size 640x480 with 1 Axes>"
      ]
     },
     "metadata": {},
     "output_type": "display_data"
    }
   ],
   "source": [
    "get_pdf_probability(dataset[\"Low\"],250,350)"
   ]
  },
  {
   "cell_type": "code",
   "execution_count": 40,
   "metadata": {},
   "outputs": [],
   "source": [
    "def stdNBgraph(dataset):\n",
    "        # Coverted to standard Normal Distribution\n",
    "    import seaborn as sns\n",
    "    mean=dataset.mean()\n",
    "    std=dataset.std()\n",
    "    values = dataset.values\n",
    "\n",
    "    z_score=[((j-mean)/std) for j in values]\n",
    "\n",
    "    sns.distplot(z_score,kde=True)\n",
    "\n",
    "    # Optionally, print average Z-score for confirmation\n",
    "    print(f\"Average Z-score: {sum(z_score)/len(z_score)}\")"
   ]
  },
  {
   "cell_type": "code",
   "execution_count": 41,
   "metadata": {},
   "outputs": [
    {
     "name": "stdout",
     "output_type": "stream",
     "text": [
      "Average Z-score: Ticker\n",
      "RELIANCE.NS    2.136724e-15\n",
      "dtype: float64\n"
     ]
    },
    {
     "data": {
      "image/png": "[encoded data removed]",
      "text/plain": [
       "<Figure size 640x480 with 1 Axes>"
      ]
     },
     "metadata": {},
     "output_type": "display_data"
    }
   ],
   "source": [
    "stdNBgraph(dataset[\"Low\"])"
   ]
  },
  {
   "cell_type": "code",
   "execution_count": 42,
   "metadata": {},
   "outputs": [],
   "source": [
    "def freqTable(columnName,dataset):\n",
    "    import pandas as pd\n",
    "    frq=pd.DataFrame()\n",
    "\n",
    "    # Ensure the column is flattened to avoid MultiIndex issues\n",
    "    value_counts = dataset[columnName].value_counts().reset_index()\n",
    "    value_counts.columns = ['Unique_Values', 'Frequency']  # Rename columns\n",
    "\n",
    "    # Add Relative Frequency and Cumulative columns\n",
    "    value_counts['Relative_Fre'] = value_counts['Frequency'] / len(dataset[columnName]) * 100\n",
    "    value_counts['Cumulative'] = value_counts['Relative_Fre'].cumsum()\n",
    "\n",
    "    return value_counts"
   ]
  },
  {
   "cell_type": "code",
   "execution_count": 43,
   "metadata": {},
   "outputs": [
    {
     "data": {
      "text/html": [
       "<div>\n",
       "<style scoped>\n",
       "    .dataframe tbody tr th:only-of-type {\n",
       "        vertical-align: middle;\n",
       "    }\n",
       "\n",
       "    .dataframe tbody tr th {\n",
       "        vertical-align: top;\n",
       "    }\n",
       "\n",
       "    .dataframe thead th {\n",
       "        text-align: right;\n",
       "    }\n",
       "</style>\n",
       "<table border=\"1\" class=\"dataframe\">\n",
       "  <thead>\n",
       "    <tr style=\"text-align: right;\">\n",
       "      <th></th>\n",
       "      <th>Unique_Values</th>\n",
       "      <th>Frequency</th>\n",
       "      <th>Relative_Fre</th>\n",
       "      <th>Cumulative</th>\n",
       "    </tr>\n",
       "  </thead>\n",
       "  <tbody>\n",
       "    <tr>\n",
       "      <th>0</th>\n",
       "      <td>995.162593</td>\n",
       "      <td>1</td>\n",
       "      <td>0.819672</td>\n",
       "      <td>0.819672</td>\n",
       "    </tr>\n",
       "    <tr>\n",
       "      <th>1</th>\n",
       "      <td>1003.379605</td>\n",
       "      <td>1</td>\n",
       "      <td>0.819672</td>\n",
       "      <td>1.639344</td>\n",
       "    </tr>\n",
       "    <tr>\n",
       "      <th>2</th>\n",
       "      <td>1004.383891</td>\n",
       "      <td>1</td>\n",
       "      <td>0.819672</td>\n",
       "      <td>2.459016</td>\n",
       "    </tr>\n",
       "    <tr>\n",
       "      <th>3</th>\n",
       "      <td>1005.296859</td>\n",
       "      <td>1</td>\n",
       "      <td>0.819672</td>\n",
       "      <td>3.278689</td>\n",
       "    </tr>\n",
       "    <tr>\n",
       "      <th>4</th>\n",
       "      <td>1009.359714</td>\n",
       "      <td>1</td>\n",
       "      <td>0.819672</td>\n",
       "      <td>4.098361</td>\n",
       "    </tr>\n",
       "    <tr>\n",
       "      <th>...</th>\n",
       "      <td>...</td>\n",
       "      <td>...</td>\n",
       "      <td>...</td>\n",
       "      <td>...</td>\n",
       "    </tr>\n",
       "    <tr>\n",
       "      <th>117</th>\n",
       "      <td>1162.240506</td>\n",
       "      <td>1</td>\n",
       "      <td>0.819672</td>\n",
       "      <td>96.721311</td>\n",
       "    </tr>\n",
       "    <tr>\n",
       "      <th>118</th>\n",
       "      <td>1163.062148</td>\n",
       "      <td>1</td>\n",
       "      <td>0.819672</td>\n",
       "      <td>97.540984</td>\n",
       "    </tr>\n",
       "    <tr>\n",
       "      <th>119</th>\n",
       "      <td>1163.153452</td>\n",
       "      <td>1</td>\n",
       "      <td>0.819672</td>\n",
       "      <td>98.360656</td>\n",
       "    </tr>\n",
       "    <tr>\n",
       "      <th>120</th>\n",
       "      <td>1163.244669</td>\n",
       "      <td>1</td>\n",
       "      <td>0.819672</td>\n",
       "      <td>99.180328</td>\n",
       "    </tr>\n",
       "    <tr>\n",
       "      <th>121</th>\n",
       "      <td>1168.722774</td>\n",
       "      <td>1</td>\n",
       "      <td>0.819672</td>\n",
       "      <td>100.000000</td>\n",
       "    </tr>\n",
       "  </tbody>\n",
       "</table>\n",
       "<p>122 rows × 4 columns</p>\n",
       "</div>"
      ],
      "text/plain": [
       "     Unique_Values  Frequency  Relative_Fre  Cumulative\n",
       "0       995.162593          1      0.819672    0.819672\n",
       "1      1003.379605          1      0.819672    1.639344\n",
       "2      1004.383891          1      0.819672    2.459016\n",
       "3      1005.296859          1      0.819672    3.278689\n",
       "4      1009.359714          1      0.819672    4.098361\n",
       "..             ...        ...           ...         ...\n",
       "117    1162.240506          1      0.819672   96.721311\n",
       "118    1163.062148          1      0.819672   97.540984\n",
       "119    1163.153452          1      0.819672   98.360656\n",
       "120    1163.244669          1      0.819672   99.180328\n",
       "121    1168.722774          1      0.819672  100.000000\n",
       "\n",
       "[122 rows x 4 columns]"
      ]
     },
     "execution_count": 43,
     "metadata": {},
     "output_type": "execute_result"
    }
   ],
   "source": [
    "freqTable(\"Low\",dataset)"
   ]
  },
  {
   "cell_type": "code",
   "execution_count": 44,
   "metadata": {},
   "outputs": [
    {
     "data": {
      "text/html": [
       "<div>\n",
       "<style scoped>\n",
       "    .dataframe tbody tr th:only-of-type {\n",
       "        vertical-align: middle;\n",
       "    }\n",
       "\n",
       "    .dataframe tbody tr th {\n",
       "        vertical-align: top;\n",
       "    }\n",
       "\n",
       "    .dataframe thead th {\n",
       "        text-align: right;\n",
       "    }\n",
       "</style>\n",
       "<table border=\"1\" class=\"dataframe\">\n",
       "  <thead>\n",
       "    <tr style=\"text-align: right;\">\n",
       "      <th></th>\n",
       "      <th>Unique_Values</th>\n",
       "      <th>Frequency</th>\n",
       "      <th>Relative_Fre</th>\n",
       "      <th>Cumulative</th>\n",
       "    </tr>\n",
       "  </thead>\n",
       "  <tbody>\n",
       "    <tr>\n",
       "      <th>0</th>\n",
       "      <td>1013.422486</td>\n",
       "      <td>1</td>\n",
       "      <td>0.819672</td>\n",
       "      <td>0.819672</td>\n",
       "    </tr>\n",
       "    <tr>\n",
       "      <th>1</th>\n",
       "      <td>1024.743657</td>\n",
       "      <td>1</td>\n",
       "      <td>0.819672</td>\n",
       "      <td>1.639344</td>\n",
       "    </tr>\n",
       "    <tr>\n",
       "      <th>2</th>\n",
       "      <td>1027.117424</td>\n",
       "      <td>1</td>\n",
       "      <td>0.819672</td>\n",
       "      <td>2.459016</td>\n",
       "    </tr>\n",
       "    <tr>\n",
       "      <th>3</th>\n",
       "      <td>1028.007575</td>\n",
       "      <td>1</td>\n",
       "      <td>0.819672</td>\n",
       "      <td>3.278689</td>\n",
       "    </tr>\n",
       "    <tr>\n",
       "      <th>4</th>\n",
       "      <td>1028.943332</td>\n",
       "      <td>1</td>\n",
       "      <td>0.819672</td>\n",
       "      <td>4.098361</td>\n",
       "    </tr>\n",
       "    <tr>\n",
       "      <th>...</th>\n",
       "      <td>...</td>\n",
       "      <td>...</td>\n",
       "      <td>...</td>\n",
       "      <td>...</td>\n",
       "    </tr>\n",
       "    <tr>\n",
       "      <th>117</th>\n",
       "      <td>1177.304802</td>\n",
       "      <td>1</td>\n",
       "      <td>0.819672</td>\n",
       "      <td>96.721311</td>\n",
       "    </tr>\n",
       "    <tr>\n",
       "      <th>118</th>\n",
       "      <td>1178.857064</td>\n",
       "      <td>1</td>\n",
       "      <td>0.819672</td>\n",
       "      <td>97.540984</td>\n",
       "    </tr>\n",
       "    <tr>\n",
       "      <th>119</th>\n",
       "      <td>1179.587432</td>\n",
       "      <td>1</td>\n",
       "      <td>0.819672</td>\n",
       "      <td>98.360656</td>\n",
       "    </tr>\n",
       "    <tr>\n",
       "      <th>120</th>\n",
       "      <td>1187.804182</td>\n",
       "      <td>1</td>\n",
       "      <td>0.819672</td>\n",
       "      <td>99.180328</td>\n",
       "    </tr>\n",
       "    <tr>\n",
       "      <th>121</th>\n",
       "      <td>1189.630256</td>\n",
       "      <td>1</td>\n",
       "      <td>0.819672</td>\n",
       "      <td>100.000000</td>\n",
       "    </tr>\n",
       "  </tbody>\n",
       "</table>\n",
       "<p>122 rows × 4 columns</p>\n",
       "</div>"
      ],
      "text/plain": [
       "     Unique_Values  Frequency  Relative_Fre  Cumulative\n",
       "0      1013.422486          1      0.819672    0.819672\n",
       "1      1024.743657          1      0.819672    1.639344\n",
       "2      1027.117424          1      0.819672    2.459016\n",
       "3      1028.007575          1      0.819672    3.278689\n",
       "4      1028.943332          1      0.819672    4.098361\n",
       "..             ...        ...           ...         ...\n",
       "117    1177.304802          1      0.819672   96.721311\n",
       "118    1178.857064          1      0.819672   97.540984\n",
       "119    1179.587432          1      0.819672   98.360656\n",
       "120    1187.804182          1      0.819672   99.180328\n",
       "121    1189.630256          1      0.819672  100.000000\n",
       "\n",
       "[122 rows x 4 columns]"
      ]
     },
     "execution_count": 44,
     "metadata": {},
     "output_type": "execute_result"
    }
   ],
   "source": [
    "freqTable(\"High\",dataset)"
   ]
  },
  {
   "cell_type": "code",
   "execution_count": 45,
   "metadata": {},
   "outputs": [],
   "source": [
    "fh=freqTable(\"High\",dataset)"
   ]
  },
  {
   "cell_type": "code",
   "execution_count": 46,
   "metadata": {},
   "outputs": [
    {
     "data": {
      "text/html": [
       "<div>\n",
       "<style scoped>\n",
       "    .dataframe tbody tr th:only-of-type {\n",
       "        vertical-align: middle;\n",
       "    }\n",
       "\n",
       "    .dataframe tbody tr th {\n",
       "        vertical-align: top;\n",
       "    }\n",
       "\n",
       "    .dataframe thead th {\n",
       "        text-align: right;\n",
       "    }\n",
       "</style>\n",
       "<table border=\"1\" class=\"dataframe\">\n",
       "  <thead>\n",
       "    <tr style=\"text-align: right;\">\n",
       "      <th></th>\n",
       "      <th>Unique_Values</th>\n",
       "      <th>Frequency</th>\n",
       "      <th>Relative_Fre</th>\n",
       "      <th>Cumulative</th>\n",
       "    </tr>\n",
       "  </thead>\n",
       "  <tbody>\n",
       "    <tr>\n",
       "      <th>0</th>\n",
       "      <td>1013.422486</td>\n",
       "      <td>1</td>\n",
       "      <td>0.819672</td>\n",
       "      <td>0.819672</td>\n",
       "    </tr>\n",
       "    <tr>\n",
       "      <th>1</th>\n",
       "      <td>1024.743657</td>\n",
       "      <td>1</td>\n",
       "      <td>0.819672</td>\n",
       "      <td>1.639344</td>\n",
       "    </tr>\n",
       "    <tr>\n",
       "      <th>2</th>\n",
       "      <td>1027.117424</td>\n",
       "      <td>1</td>\n",
       "      <td>0.819672</td>\n",
       "      <td>2.459016</td>\n",
       "    </tr>\n",
       "    <tr>\n",
       "      <th>3</th>\n",
       "      <td>1028.007575</td>\n",
       "      <td>1</td>\n",
       "      <td>0.819672</td>\n",
       "      <td>3.278689</td>\n",
       "    </tr>\n",
       "    <tr>\n",
       "      <th>4</th>\n",
       "      <td>1028.943332</td>\n",
       "      <td>1</td>\n",
       "      <td>0.819672</td>\n",
       "      <td>4.098361</td>\n",
       "    </tr>\n",
       "    <tr>\n",
       "      <th>...</th>\n",
       "      <td>...</td>\n",
       "      <td>...</td>\n",
       "      <td>...</td>\n",
       "      <td>...</td>\n",
       "    </tr>\n",
       "    <tr>\n",
       "      <th>117</th>\n",
       "      <td>1177.304802</td>\n",
       "      <td>1</td>\n",
       "      <td>0.819672</td>\n",
       "      <td>96.721311</td>\n",
       "    </tr>\n",
       "    <tr>\n",
       "      <th>118</th>\n",
       "      <td>1178.857064</td>\n",
       "      <td>1</td>\n",
       "      <td>0.819672</td>\n",
       "      <td>97.540984</td>\n",
       "    </tr>\n",
       "    <tr>\n",
       "      <th>119</th>\n",
       "      <td>1179.587432</td>\n",
       "      <td>1</td>\n",
       "      <td>0.819672</td>\n",
       "      <td>98.360656</td>\n",
       "    </tr>\n",
       "    <tr>\n",
       "      <th>120</th>\n",
       "      <td>1187.804182</td>\n",
       "      <td>1</td>\n",
       "      <td>0.819672</td>\n",
       "      <td>99.180328</td>\n",
       "    </tr>\n",
       "    <tr>\n",
       "      <th>121</th>\n",
       "      <td>1189.630256</td>\n",
       "      <td>1</td>\n",
       "      <td>0.819672</td>\n",
       "      <td>100.000000</td>\n",
       "    </tr>\n",
       "  </tbody>\n",
       "</table>\n",
       "<p>122 rows × 4 columns</p>\n",
       "</div>"
      ],
      "text/plain": [
       "     Unique_Values  Frequency  Relative_Fre  Cumulative\n",
       "0      1013.422486          1      0.819672    0.819672\n",
       "1      1024.743657          1      0.819672    1.639344\n",
       "2      1027.117424          1      0.819672    2.459016\n",
       "3      1028.007575          1      0.819672    3.278689\n",
       "4      1028.943332          1      0.819672    4.098361\n",
       "..             ...        ...           ...         ...\n",
       "117    1177.304802          1      0.819672   96.721311\n",
       "118    1178.857064          1      0.819672   97.540984\n",
       "119    1179.587432          1      0.819672   98.360656\n",
       "120    1187.804182          1      0.819672   99.180328\n",
       "121    1189.630256          1      0.819672  100.000000\n",
       "\n",
       "[122 rows x 4 columns]"
      ]
     },
     "execution_count": 46,
     "metadata": {},
     "output_type": "execute_result"
    }
   ],
   "source": [
    "fh.sort_values(by=\"Frequency\",ascending=False)"
   ]
  },
  {
   "cell_type": "code",
   "execution_count": 47,
   "metadata": {},
   "outputs": [],
   "source": [
    "fhs=fh[fh[\"Frequency\"]==2][\"Unique_Values\"].sort_values(ascending=False)"
   ]
  },
  {
   "cell_type": "code",
   "execution_count": 48,
   "metadata": {},
   "outputs": [
    {
     "data": {
      "text/plain": [
       "Series([], Name: Unique_Values, dtype: float64)"
      ]
     },
     "execution_count": 48,
     "metadata": {},
     "output_type": "execute_result"
    }
   ],
   "source": [
    "fhs"
   ]
  },
  {
   "cell_type": "code",
   "execution_count": null,
   "metadata": {},
   "outputs": [],
   "source": []
  },
  {
   "cell_type": "code",
   "execution_count": null,
   "metadata": {},
   "outputs": [],
   "source": []
  }
 ],
 "metadata": {
  "kernelspec": {
   "display_name": "Python 3 (ipykernel)",
   "language": "python",
   "name": "python3"
  },
  "language_info": {
   "codemirror_mode": {
    "name": "ipython",
    "version": 3
   },
   "file_extension": ".py",
   "mimetype": "text/x-python",
   "name": "python",
   "nbconvert_exporter": "python",
   "pygments_lexer": "ipython3",
   "version": "3.9.23"
  }
 },
 "nbformat": 4,
 "nbformat_minor": 4
}
